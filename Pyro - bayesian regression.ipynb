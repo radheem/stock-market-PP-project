{
 "cells": [
  {
   "cell_type": "code",
   "execution_count": 1,
   "metadata": {
    "collapsed": true
   },
   "outputs": [],
   "source": [
    "import pandas as pd\n",
    "import numpy as np\n",
    "import matplotlib.pylab as plt"
   ]
  },
  {
   "cell_type": "code",
   "execution_count": 2,
   "metadata": {
    "collapsed": true
   },
   "outputs": [],
   "source": [
    "data = pd.read_csv('ethusd_tweets.csv')[::-1]"
   ]
  },
  {
   "cell_type": "code",
   "execution_count": 3,
   "metadata": {},
   "outputs": [
    {
     "name": "stderr",
     "output_type": "stream",
     "text": [
      "/anaconda2/lib/python2.7/site-packages/ipykernel_launcher.py:3: DeprecationWarning: \n",
      ".ix is deprecated. Please use\n",
      ".loc for label based indexing or\n",
      ".iloc for positional indexing\n",
      "\n",
      "See the documentation here:\n",
      "http://pandas.pydata.org/pandas-docs/stable/indexing.html#ix-indexer-is-deprecated\n",
      "  This is separate from the ipykernel package so we can avoid doing imports until\n"
     ]
    }
   ],
   "source": [
    "N = 360\n",
    "\n",
    "highp = pd.to_numeric(data.ix[:, 'High'][-N:])\n",
    "lowp = pd.to_numeric(data.ix[:, 'Low'][-N:])\n",
    "openp = pd.to_numeric(data.ix[:, 'Open'][-N:])\n",
    "closep = pd.to_numeric(data.ix[:, 'Close'][-N:])\n",
    "tweets = pd.to_numeric(data.ix[:, 'Tweets'].replace('null', 0)[-N:])\n",
    "volume = pd.to_numeric(data.ix[:, 'Volume'][-N:])\n",
    "marketcap = pd.to_numeric(data.ix[:, 'Market Cap'][-N:])\n",
    "\n",
    "normal_close = closep\n",
    "\n",
    "highp = highp.pct_change().replace(np.nan, 0).replace(np.inf, 0)\n",
    "lowp = lowp.pct_change().replace(np.nan, 0).replace(np.inf, 0)\n",
    "openp = openp.pct_change().replace(np.nan, 0).replace(np.inf, 0)\n",
    "closep = closep.pct_change().replace(np.nan, 0).replace(np.inf, 0)\n",
    "tweets = tweets.pct_change().replace(np.nan, 0).replace(np.inf, 0)\n",
    "volume = volume.pct_change().replace(np.nan, 0).replace(np.inf, 0)\n",
    "marketcap = marketcap.pct_change().replace(np.nan, 0).replace(np.inf, 0)\n",
    "\n",
    "normal_close = np.array(normal_close)\n",
    "highp = np.array(highp)\n",
    "lowp = np.array(lowp)\n",
    "openp = np.array(openp)\n",
    "closep = np.array(closep)\n",
    "tweets = np.array(tweets)\n",
    "volume = np.array(volume)\n",
    "marketcap = np.array(marketcap)"
   ]
  },
  {
   "cell_type": "code",
   "execution_count": 4,
   "metadata": {
    "collapsed": true
   },
   "outputs": [],
   "source": [
    "WINDOW = 7\n",
    "STEP = 1\n",
    "FORECAST = 1\n",
    "\n",
    "X, Y = [], []\n",
    "for i in range(0, len(openp), STEP): \n",
    "    try:\n",
    "        o = openp[i:i+WINDOW]\n",
    "        h = highp[i:i+WINDOW]\n",
    "        l = lowp[i:i+WINDOW]\n",
    "        c = closep[i:i+WINDOW]\n",
    "        v = volume[i:i+WINDOW]\n",
    "        t = tweets[i:i+WINDOW]\n",
    "        m = marketcap[i:i+WINDOW]\n",
    "        \n",
    "#         y_i = (normal_close[i+WINDOW+FORECAST] - normal_close[i+WINDOW]) / normal_close[i+WINDOW]\n",
    "        y_i = closep[i+WINDOW+FORECAST]\n",
    "        x_i = np.column_stack((o, h, l, c, v, t, m))\n",
    "        x_i = x_i.flatten()\n",
    "\n",
    "    except Exception as e:\n",
    "        break\n",
    "\n",
    "    X.append(x_i)\n",
    "    Y.append(y_i)\n",
    "\n",
    "X, Y = np.array(X), np.array(Y)"
   ]
  },
  {
   "cell_type": "code",
   "execution_count": 5,
   "metadata": {},
   "outputs": [
    {
     "data": {
      "image/png": "[encoded data removed]",
      "text/plain": [
       "<matplotlib.figure.Figure at 0x10679b590>"
      ]
     },
     "metadata": {},
     "output_type": "display_data"
    }
   ],
   "source": [
    "plt.figure()\n",
    "plt.plot(Y)\n",
    "plt.show()"
   ]
  },
  {
   "cell_type": "code",
   "execution_count": 6,
   "metadata": {
    "collapsed": true
   },
   "outputs": [],
   "source": [
    "import torch\n",
    "import torch.nn as nn\n",
    "from torch.nn.functional import normalize  # noqa: F401\n",
    "import torch.nn.functional as F\n",
    "\n",
    "from torch.autograd import Variable\n",
    "\n",
    "import pyro\n",
    "from pyro.distributions import Normal, Bernoulli  # noqa: F401\n",
    "from pyro.infer import SVI\n",
    "from pyro.optim import Adam\n",
    "\n",
    "pyro.get_param_store().clear()"
   ]
  },
  {
   "cell_type": "code",
   "execution_count": 7,
   "metadata": {
    "collapsed": true
   },
   "outputs": [],
   "source": [
    "X_train, Y_train = Variable(torch.Tensor(X[:-30])), Variable(torch.Tensor(Y[:-30]))\n",
    "X_test, Y_test = Variable(torch.Tensor(X[-30:])), Variable(torch.Tensor(Y[-30:]))\n",
    "data = torch.cat((X_train, Y_train), 1)"
   ]
  },
  {
   "cell_type": "code",
   "execution_count": 8,
   "metadata": {
    "collapsed": true
   },
   "outputs": [],
   "source": [
    "# get array of batch indices\n",
    "def get_batch_indices(N, batch_size):\n",
    "    all_batches = np.arange(0, N, batch_size)\n",
    "    if all_batches[-1] != N:\n",
    "        all_batches = list(all_batches) + [N]\n",
    "    return all_batches\n",
    "\n",
    "class Net(torch.nn.Module):\n",
    "    def __init__(self, n_feature, n_hidden):\n",
    "        super(Net, self).__init__()\n",
    "        self.hidden = torch.nn.Linear(n_feature, n_hidden)   # hidden layer\n",
    "        self.predict = torch.nn.Linear(n_hidden, 1)   # output layer\n",
    "\n",
    "    def forward(self, x):\n",
    "        x = self.hidden(x)\n",
    "        x = self.predict(x)\n",
    "        return x\n",
    "\n",
    "first_layer = len(X_train.data.numpy()[0])\n",
    "second_layer = 25   \n",
    "    \n",
    "softplus = nn.Softplus()\n",
    "regression_model = Net(first_layer, second_layer)"
   ]
  },
  {
   "cell_type": "code",
   "execution_count": 9,
   "metadata": {
    "collapsed": true
   },
   "outputs": [],
   "source": [
    "def model(data):\n",
    "\n",
    "    mu = Variable(torch.zeros(second_layer, first_layer)).type_as(data)\n",
    "    sigma = Variable(torch.ones(second_layer, first_layer)).type_as(data)\n",
    "    bias_mu = Variable(torch.zeros(second_layer)).type_as(data)\n",
    "    bias_sigma = Variable(torch.ones(second_layer)).type_as(data)\n",
    "    w_prior, b_prior = Normal(mu, sigma), Normal(bias_mu, bias_sigma)\n",
    "    \n",
    "    mu2 = Variable(torch.zeros(1, second_layer)).type_as(data)\n",
    "    sigma2 = Variable(torch.ones(1, second_layer)).type_as(data)\n",
    "    bias_mu2 = Variable(torch.zeros(1)).type_as(data)\n",
    "    bias_sigma2 = Variable(torch.ones(1)).type_as(data)\n",
    "    w_prior2, b_prior2 = Normal(mu2, sigma2), Normal(bias_mu2, bias_sigma2)    \n",
    "    \n",
    "    priors = {'hidden.weight': w_prior, \n",
    "              'hidden.bias': b_prior,\n",
    "              'predict.weight': w_prior2,\n",
    "              'predict.bias': b_prior2}\n",
    "    \n",
    "    # lift module parameters to random variables sampled from the priors\n",
    "    lifted_module = pyro.random_module(\"module\", regression_model, priors)\n",
    "    # sample a regressor (which also samples w and b)\n",
    "    lifted_reg_model = lifted_module()\n",
    "\n",
    "    with pyro.iarange(\"map\", N, subsample=data):\n",
    "        x_data = data[:, :-1]\n",
    "        y_data = data[:, -1]\n",
    "        # run the regressor forward conditioned on inputs\n",
    "        prediction_mean = lifted_reg_model(x_data).squeeze()\n",
    "        pyro.sample(\"obs\",\n",
    "                    Normal(prediction_mean, Variable(torch.ones(data.size(0))).type_as(data)),\n",
    "                    obs=y_data.squeeze())"
   ]
  },
  {
   "cell_type": "code",
   "execution_count": 10,
   "metadata": {
    "collapsed": true
   },
   "outputs": [],
   "source": [
    "def guide(data):\n",
    "    \n",
    "    w_mu = Variable(torch.randn(second_layer, first_layer).type_as(data.data), requires_grad=True)\n",
    "    w_log_sig = Variable((torch.ones(second_layer, first_layer) + 0.05 * torch.randn(second_layer, first_layer)).type_as(data.data), requires_grad=True)\n",
    "    b_mu = Variable(torch.randn(second_layer).type_as(data.data), requires_grad=True)\n",
    "    b_log_sig = Variable((torch.ones(second_layer) + 0.05 * torch.randn(second_layer)).type_as(data.data), requires_grad=True)\n",
    "    \n",
    "    # register learnable params in the param store\n",
    "    mw_param = pyro.param(\"guide_mean_weight\", w_mu)\n",
    "    sw_param = softplus(pyro.param(\"guide_log_sigma_weight\", w_log_sig))\n",
    "    mb_param = pyro.param(\"guide_mean_bias\", b_mu)\n",
    "    sb_param = softplus(pyro.param(\"guide_log_sigma_bias\", b_log_sig))\n",
    "    \n",
    "    # gaussian guide distributions for w and b\n",
    "    w_dist = Normal(mw_param, sw_param)\n",
    "    b_dist = Normal(mb_param, sb_param)\n",
    "    \n",
    "#     w_mu2 = Variable(torch.randn(1, second_layer).type_as(data.data), requires_grad=True)\n",
    "#     w_log_sig2 = Variable(torch.randn(1, second_layer).type_as(data.data), requires_grad=True)\n",
    "#     b_mu2 = Variable(torch.randn(1).type_as(data.data), requires_grad=True)\n",
    "#     b_log_sig2 = Variable(torch.randn(1).type_as(data.data), requires_grad=True)\n",
    "    \n",
    "    w_mu2 = Variable(torch.randn(1, second_layer).type_as(data.data), requires_grad=True)\n",
    "    w_log_sig2 = Variable((torch.ones(1, second_layer) + 0.05 * torch.randn(1, second_layer)).type_as(data.data), requires_grad=True)\n",
    "    b_mu2 = Variable(torch.randn(1).type_as(data.data), requires_grad=True)\n",
    "    b_log_sig2 = Variable((torch.ones(1) + 0.05 * torch.randn(1)).type_as(data.data), requires_grad=True)\n",
    "    \n",
    "    \n",
    "    \n",
    "    # register learnable params in the param store\n",
    "    mw_param2 = pyro.param(\"guide_mean_weight2\", w_mu2)\n",
    "    sw_param2 = softplus(pyro.param(\"guide_log_sigma_weight2\", w_log_sig2))\n",
    "    mb_param2 = pyro.param(\"guide_mean_bias2\", b_mu2)\n",
    "    sb_param2 = softplus(pyro.param(\"guide_log_sigma_bias2\", b_log_sig2))\n",
    "    \n",
    "    # gaussian guide distributions for w and b\n",
    "    w_dist2 = Normal(mw_param2, sw_param2)\n",
    "    b_dist2 = Normal(mb_param2, sb_param2)\n",
    "      \n",
    "    dists = {'hidden.weight': w_dist, \n",
    "              'hidden.bias': b_dist,\n",
    "              'predict.weight': w_dist2,\n",
    "              'predict.bias': b_dist2}\n",
    "    \n",
    "    # overloading the parameters in the module with random samples from the guide distributions\n",
    "    lifted_module = pyro.random_module(\"module\", regression_model, dists)\n",
    "    # sample a regressor\n",
    "    return lifted_module()"
   ]
  },
  {
   "cell_type": "code",
   "execution_count": 11,
   "metadata": {},
   "outputs": [
    {
     "name": "stderr",
     "output_type": "stream",
     "text": [
      "/anaconda2/lib/python2.7/site-packages/pyro/__init__.py:57: RuntimeWarning: trying to observe a value outside of inference at obs\n",
      "  RuntimeWarning)\n"
     ]
    },
    {
     "data": {
      "text/plain": [
       "Net(\n",
       "  (hidden): Linear(in_features=49, out_features=25)\n",
       "  (predict): Linear(in_features=25, out_features=1)\n",
       ")"
      ]
     },
     "execution_count": 11,
     "metadata": {},
     "output_type": "execute_result"
    }
   ],
   "source": [
    "model(data)\n",
    "guide(data)"
   ]
  },
  {
   "cell_type": "code",
   "execution_count": 12,
   "metadata": {},
   "outputs": [
    {
     "name": "stdout",
     "output_type": "stream",
     "text": [
      "epoch avg loss 4177.12428426\n",
      "epoch avg loss 1357.77878736\n",
      "epoch avg loss 1189.32982337\n",
      "epoch avg loss 1132.04046365\n",
      "epoch avg loss 1238.31113524\n",
      "epoch avg loss 922.515054833\n",
      "epoch avg loss 583.254267154\n",
      "epoch avg loss 461.047631684\n",
      "epoch avg loss 443.761589856\n",
      "epoch avg loss 354.839821762\n",
      "epoch avg loss 282.332173034\n",
      "epoch avg loss 304.590024202\n",
      "epoch avg loss 186.016384717\n",
      "epoch avg loss 94.2681369189\n",
      "epoch avg loss 149.879637914\n",
      "epoch avg loss 70.9799535526\n",
      "epoch avg loss 89.9730664366\n",
      "epoch avg loss 74.8214899857\n",
      "epoch avg loss 66.6747506657\n",
      "epoch avg loss 56.2046607355\n",
      "epoch avg loss 36.453363075\n",
      "epoch avg loss 51.0174738724\n",
      "epoch avg loss 28.6369932187\n",
      "epoch avg loss 23.9943235409\n",
      "epoch avg loss 21.7192405559\n",
      "epoch avg loss 20.6271453289\n",
      "epoch avg loss 15.6344268988\n",
      "epoch avg loss 16.2849140049\n",
      "epoch avg loss 13.0923778463\n",
      "epoch avg loss 13.2701124108\n",
      "epoch avg loss 12.2980668915\n",
      "epoch avg loss 11.1371601176\n",
      "epoch avg loss 8.94834037449\n",
      "epoch avg loss 9.3660199657\n",
      "epoch avg loss 9.21655813655\n",
      "epoch avg loss 8.81148183124\n",
      "epoch avg loss 8.16332581325\n",
      "epoch avg loss 8.58644625267\n",
      "epoch avg loss 8.27573532199\n",
      "epoch avg loss 7.91112532527\n",
      "epoch avg loss 7.64534754783\n",
      "epoch avg loss 7.71149060741\n",
      "epoch avg loss 7.64315407321\n",
      "epoch avg loss 7.34756213834\n",
      "epoch avg loss 7.53555657997\n",
      "epoch avg loss 7.59086826869\n",
      "epoch avg loss 7.50637504625\n",
      "epoch avg loss 7.35416796193\n",
      "epoch avg loss 7.39622734496\n",
      "epoch avg loss 7.42011919673\n",
      "epoch avg loss 7.22123481324\n",
      "epoch avg loss 7.21899366675\n",
      "epoch avg loss 7.29421324167\n",
      "epoch avg loss 7.35770496819\n",
      "epoch avg loss 7.29192328601\n",
      "epoch avg loss 7.22545116733\n",
      "epoch avg loss 7.29576243525\n",
      "epoch avg loss 7.41842168014\n",
      "epoch avg loss 7.33028937867\n",
      "epoch avg loss 7.35403764618\n",
      "epoch avg loss 7.3305898157\n",
      "epoch avg loss 7.40317198949\n",
      "epoch avg loss 7.31422888714\n",
      "epoch avg loss 7.36769122959\n",
      "epoch avg loss 7.40105272376\n",
      "epoch avg loss 7.28221945437\n",
      "epoch avg loss 7.34991388736\n",
      "epoch avg loss 7.39620289299\n",
      "epoch avg loss 7.36228743843\n",
      "epoch avg loss 7.32529454202\n",
      "epoch avg loss 7.43038428644\n",
      "epoch avg loss 7.37354908819\n",
      "epoch avg loss 7.20623002141\n",
      "epoch avg loss 7.236981694\n",
      "epoch avg loss 7.2162498332\n",
      "epoch avg loss 7.35485479698\n",
      "epoch avg loss 7.28490689675\n",
      "epoch avg loss 7.26523869674\n",
      "epoch avg loss 7.29053814811\n",
      "epoch avg loss 7.2601700303\n",
      "epoch avg loss 7.39747723882\n",
      "epoch avg loss 7.25132628257\n",
      "epoch avg loss 7.37950219575\n",
      "epoch avg loss 7.26569390149\n",
      "epoch avg loss 7.23651701175\n",
      "epoch avg loss 7.31936948788\n",
      "epoch avg loss 7.35496454654\n",
      "epoch avg loss 7.45397987129\n",
      "epoch avg loss 7.20733993246\n",
      "epoch avg loss 7.61285296138\n",
      "epoch avg loss 7.33623149232\n",
      "epoch avg loss 7.22306937461\n",
      "epoch avg loss 7.29079963258\n",
      "epoch avg loss 7.37970586741\n",
      "epoch avg loss 9.16360881166\n",
      "epoch avg loss 7.2978268262\n",
      "epoch avg loss 7.2574305564\n",
      "epoch avg loss 7.45452170046\n",
      "epoch avg loss 7.41964806977\n",
      "epoch avg loss 7.30681245223\n"
     ]
    }
   ],
   "source": [
    "# instantiate optim and inference objects\n",
    "optim = Adam({\"lr\": 0.001})\n",
    "svi = SVI(model, guide, optim, loss=\"ELBO\")\n",
    "\n",
    "N = len(X_train.data.numpy())\n",
    "\n",
    "for j in range(10000):\n",
    "    epoch_loss = 0.0\n",
    "    perm = torch.randperm(N)\n",
    "    # shuffle data\n",
    "    data = data[perm]\n",
    "    # get indices of each batch\n",
    "    all_batches = get_batch_indices(N, 64)\n",
    "    for ix, batch_start in enumerate(all_batches[:-1]):\n",
    "        batch_end = all_batches[ix + 1]\n",
    "        batch_data = data[batch_start: batch_end]        \n",
    "        epoch_loss += svi.step(batch_data)\n",
    "    if j % 100 == 0:\n",
    "        print(\"epoch avg loss {}\".format(epoch_loss/float(N)))"
   ]
  },
  {
   "cell_type": "code",
   "execution_count": 13,
   "metadata": {
    "collapsed": true
   },
   "outputs": [],
   "source": [
    "y_preds = Variable(torch.zeros(30, 1))\n",
    "for i in range(100):\n",
    "    sampled_reg_model = guide(X_test)\n",
    "    # run the regression model and add prediction to total\n",
    "    y_preds = y_preds + sampled_reg_model(X_test)\n",
    "# take the average of the predictions\n",
    "y_preds = y_preds / 100"
   ]
  },
  {
   "cell_type": "code",
   "execution_count": 14,
   "metadata": {},
   "outputs": [
    {
     "data": {
      "image/png": "[encoded data removed]",
      "text/plain": [
       "<matplotlib.figure.Figure at 0x111628f50>"
      ]
     },
     "metadata": {},
     "output_type": "display_data"
    }
   ],
   "source": [
    "plt.figure()\n",
    "plt.plot(Y_test.data.numpy())\n",
    "plt.plot(y_preds.data.numpy())\n",
    "plt.show()"
   ]
  },
  {
   "cell_type": "code",
   "execution_count": null,
   "metadata": {
    "collapsed": true
   },
   "outputs": [],
   "source": []
  }
 ],
 "metadata": {
  "kernelspec": {
   "display_name": "Python 3",
   "language": "python",
   "name": "python3"
  },
  "language_info": {
   "codemirror_mode": {
    "name": "ipython",
    "version": 3
   },
   "file_extension": ".py",
   "mimetype": "text/x-python",
   "name": "python",
   "nbconvert_exporter": "python",
   "pygments_lexer": "ipython3",
   "version": "3.7.4"
  }
 },
 "nbformat": 4,
 "nbformat_minor": 2
}
